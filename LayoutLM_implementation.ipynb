{
  "nbformat": 4,
  "nbformat_minor": 0,
  "metadata": {
    "colab": {
      "provenance": [],
      "gpuType": "T4",
      "authorship_tag": "ABX9TyOry55f/FDmZL12kUceRRQN",
      "include_colab_link": true
    },
    "kernelspec": {
      "name": "python3",
      "display_name": "Python 3"
    },
    "language_info": {
      "name": "python"
    },
    "accelerator": "GPU"
  },
  "cells": [
    {
      "cell_type": "markdown",
      "metadata": {
        "id": "view-in-github",
        "colab_type": "text"
      },
      "source": [
        "<a href=\"https://colab.research.google.com/github/sowmi1407/Task_3_implementation/blob/main/LayoutLM_implementation.ipynb\" target=\"_parent\"><img src=\"https://colab.research.google.com/assets/colab-badge.svg\" alt=\"Open In Colab\"/></a>"
      ]
    },
    {
      "cell_type": "code",
      "source": [
        "!pip install --upgrade datasets fsspec aiohttp\n"
      ],
      "metadata": {
        "colab": {
          "base_uri": "https://localhost:8080/"
        },
        "id": "szOtdwG3gbDr",
        "outputId": "6fab9ee9-e4e5-45ef-927a-9b59de19d8ad"
      },
      "execution_count": 1,
      "outputs": [
        {
          "output_type": "stream",
          "name": "stdout",
          "text": [
            "Requirement already satisfied: datasets in /usr/local/lib/python3.11/dist-packages (3.6.0)\n",
            "Requirement already satisfied: fsspec in /usr/local/lib/python3.11/dist-packages (2025.3.0)\n",
            "Collecting fsspec\n",
            "  Using cached fsspec-2025.5.1-py3-none-any.whl.metadata (11 kB)\n",
            "Requirement already satisfied: aiohttp in /usr/local/lib/python3.11/dist-packages (3.12.13)\n",
            "Requirement already satisfied: filelock in /usr/local/lib/python3.11/dist-packages (from datasets) (3.18.0)\n",
            "Requirement already satisfied: numpy>=1.17 in /usr/local/lib/python3.11/dist-packages (from datasets) (2.0.2)\n",
            "Requirement already satisfied: pyarrow>=15.0.0 in /usr/local/lib/python3.11/dist-packages (from datasets) (18.1.0)\n",
            "Requirement already satisfied: dill<0.3.9,>=0.3.0 in /usr/local/lib/python3.11/dist-packages (from datasets) (0.3.7)\n",
            "Requirement already satisfied: pandas in /usr/local/lib/python3.11/dist-packages (from datasets) (2.2.2)\n",
            "Requirement already satisfied: requests>=2.32.2 in /usr/local/lib/python3.11/dist-packages (from datasets) (2.32.3)\n",
            "Requirement already satisfied: tqdm>=4.66.3 in /usr/local/lib/python3.11/dist-packages (from datasets) (4.67.1)\n",
            "Requirement already satisfied: xxhash in /usr/local/lib/python3.11/dist-packages (from datasets) (3.5.0)\n",
            "Requirement already satisfied: multiprocess<0.70.17 in /usr/local/lib/python3.11/dist-packages (from datasets) (0.70.15)\n",
            "Requirement already satisfied: huggingface-hub>=0.24.0 in /usr/local/lib/python3.11/dist-packages (from datasets) (0.33.0)\n",
            "Requirement already satisfied: packaging in /usr/local/lib/python3.11/dist-packages (from datasets) (24.2)\n",
            "Requirement already satisfied: pyyaml>=5.1 in /usr/local/lib/python3.11/dist-packages (from datasets) (6.0.2)\n",
            "Requirement already satisfied: aiohappyeyeballs>=2.5.0 in /usr/local/lib/python3.11/dist-packages (from aiohttp) (2.6.1)\n",
            "Requirement already satisfied: aiosignal>=1.1.2 in /usr/local/lib/python3.11/dist-packages (from aiohttp) (1.3.2)\n",
            "Requirement already satisfied: attrs>=17.3.0 in /usr/local/lib/python3.11/dist-packages (from aiohttp) (25.3.0)\n",
            "Requirement already satisfied: frozenlist>=1.1.1 in /usr/local/lib/python3.11/dist-packages (from aiohttp) (1.7.0)\n",
            "Requirement already satisfied: multidict<7.0,>=4.5 in /usr/local/lib/python3.11/dist-packages (from aiohttp) (6.4.4)\n",
            "Requirement already satisfied: propcache>=0.2.0 in /usr/local/lib/python3.11/dist-packages (from aiohttp) (0.3.2)\n",
            "Requirement already satisfied: yarl<2.0,>=1.17.0 in /usr/local/lib/python3.11/dist-packages (from aiohttp) (1.20.1)\n",
            "Requirement already satisfied: typing-extensions>=3.7.4.3 in /usr/local/lib/python3.11/dist-packages (from huggingface-hub>=0.24.0->datasets) (4.14.0)\n",
            "Requirement already satisfied: hf-xet<2.0.0,>=1.1.2 in /usr/local/lib/python3.11/dist-packages (from huggingface-hub>=0.24.0->datasets) (1.1.5)\n",
            "Requirement already satisfied: charset-normalizer<4,>=2 in /usr/local/lib/python3.11/dist-packages (from requests>=2.32.2->datasets) (3.4.2)\n",
            "Requirement already satisfied: idna<4,>=2.5 in /usr/local/lib/python3.11/dist-packages (from requests>=2.32.2->datasets) (3.10)\n",
            "Requirement already satisfied: urllib3<3,>=1.21.1 in /usr/local/lib/python3.11/dist-packages (from requests>=2.32.2->datasets) (2.4.0)\n",
            "Requirement already satisfied: certifi>=2017.4.17 in /usr/local/lib/python3.11/dist-packages (from requests>=2.32.2->datasets) (2025.6.15)\n",
            "Requirement already satisfied: python-dateutil>=2.8.2 in /usr/local/lib/python3.11/dist-packages (from pandas->datasets) (2.9.0.post0)\n",
            "Requirement already satisfied: pytz>=2020.1 in /usr/local/lib/python3.11/dist-packages (from pandas->datasets) (2025.2)\n",
            "Requirement already satisfied: tzdata>=2022.7 in /usr/local/lib/python3.11/dist-packages (from pandas->datasets) (2025.2)\n",
            "Requirement already satisfied: six>=1.5 in /usr/local/lib/python3.11/dist-packages (from python-dateutil>=2.8.2->pandas->datasets) (1.17.0)\n"
          ]
        }
      ]
    },
    {
      "cell_type": "code",
      "execution_count": 2,
      "metadata": {
        "colab": {
          "base_uri": "https://localhost:8080/",
          "height": 368,
          "referenced_widgets": [
            "6241f991e0264f7b8fb218bc5fc34aa1",
            "bc8d8b52387d4b688a01f9bd958c5cc3",
            "ff4704b9b5154f05befcbda0ca375bfc",
            "0e8d76b9fdd949a49be9a2f0ff1b1b19",
            "5b789d56bc9b4daf8432edbf495804ca",
            "f5dd1d8ddaf64b19ac0d5943fdf64a27",
            "ccc5de8af01f4184a3db6dfb04ee5d73",
            "962b777bb12841d9a0460d1c522b3a04",
            "0308a3a6c81946a396b2b14eae217fa6",
            "3492f0425b6e405eb7222e0a2a85a341",
            "8bbbd03de6ec446981e4700d2e94446b",
            "a3c3f093325a48bcaf0d1b7ba7fc6b16",
            "347cf9ffb3fa4df9ab6f67aff92f5404",
            "6ae9a6c50c154461acf412cf7fcc95bb",
            "de1f03e4a6f548ddbf5001cfeee40055",
            "d804ceda65eb4c8e8caca778a87a0d8c",
            "37287bd7fab4435db500611c6b15f448",
            "472edaf746ac49dba019ae5e78f21f49",
            "868c4be8f8eb432da7daa92a32270c6d",
            "0bf56d644b0a4606b5d5bd91e49616fe",
            "0da8425e5e94425daec16872bfc9a30d",
            "97eb548bc91e4c6bbaa5c4654a05f102",
            "8b79977c064c4fd7b9faec034b48b2a8",
            "6702903d0c5e4d598bb71762d4399040",
            "d653e426329e4bc3821024b4df556a5f",
            "6acd538025c44a13b716f172a99ff868",
            "87ed16715c3b47e6a053538ac056c79d",
            "c6b6482793d0448a962bae6b60942a6b",
            "58a62f0d5d564c28aa3fa2d40164a62e",
            "52e6ec68840f4ea48938b567d612cfc2",
            "427f5eab15a947359a086b55f8c96c92",
            "f915a1f1e8ad4a6a90c79f8962db65c5",
            "3011ce0e50804d50b6c18856ebfedcd5",
            "8e43f9111fc44db99a3edc0cbb030913",
            "74725870e1884b8da786765173e0fc77",
            "397853ed9cb9415aa251e176368fbec6",
            "82f9469a00524209b30c2ea9b59b1daf",
            "ae66d165598e4a9c9834755801b310e3",
            "40aae853f6ec418fa4e5b7e97404a251",
            "d91e440e89c446d8a1685023bfdc00a7",
            "48594e6960ae499091eac573a05829b4",
            "434c1f62cd29448a8f8e6c0dc42cb380",
            "8e22d76128ad47fc80e0c4ed7da491af",
            "f727db13605049b7b9d11eefef4e470b",
            "706a039bfd8f41d0b8b5fdc5d9f18f12",
            "026af03f58824f02b6a05c90889847a4",
            "3674e47ec97d4b5f9b6d474f633b6100",
            "5327c09aa1764200992e26e2daa99c55",
            "7e335644abee49ef9be34b022c3d4c9e",
            "7b5dd4a3bbfc4545b8ae377ead35e94f",
            "f1ec91b66f944a339faaae862acb5fab",
            "29b6a01647d1486c8b5fbd4c981df289",
            "4751368ea3c34e4785581a78694221b6",
            "f7ca2ac4e90b45589841b07871d39347",
            "57b8738df3d14b34b6d91be5d49590d0",
            "bbddbfa704fc4e2397aa49fb52c6edde",
            "9d4e951d70a54f829be5b935337ab59f",
            "9ffefd7262c847cfa19f38feabbcbd94",
            "c314a2d45ae44f108689d8d1c698fd4a",
            "943b22fc7835480ab39fee995ddf2d7e",
            "4dc5626f3e7946cd803513c305fd08ac",
            "a0deba536c884d43b3ab56ecd5d41fef",
            "ac3b4e70588f4ba09f66975350328df8",
            "c451966ebf014ff18f851fa92d2834ab",
            "1b07a5b530834f608d3e64cb6204c32e",
            "34354c428078463a9ae58da04913d0c7",
            "bf27b89eeb804b939e36386e8c725b59",
            "14b03e0a512747829965839d9619d996",
            "95fb373541714d219c76c8bf3a955fea",
            "e028f6a339864270a7c6b1d0dbc3c951",
            "0f3126fc682546dba25cf8b8d7ff622a",
            "b2ebb13c09684b16afae978076947ea1",
            "475188056611496e888a4a595436e3a9",
            "ced0a3c336da4d168ee25a0177499f3a",
            "345b98371309474ab819025086b94b05",
            "be8acbef24ce4d688d6ef06b83c22225",
            "fbc62aa079eb4d2aac2d3562c304616c"
          ]
        },
        "id": "prODNMO2fafm",
        "outputId": "03257efe-b609-4c80-f642-6813321cac63"
      },
      "outputs": [
        {
          "output_type": "stream",
          "name": "stderr",
          "text": [
            "/usr/local/lib/python3.11/dist-packages/huggingface_hub/utils/_auth.py:94: UserWarning: \n",
            "The secret `HF_TOKEN` does not exist in your Colab secrets.\n",
            "To authenticate with the Hugging Face Hub, create a token in your settings tab (https://huggingface.co/settings/tokens), set it as secret in your Google Colab and restart your session.\n",
            "You will be able to reuse this secret in all of your notebooks.\n",
            "Please note that authentication is recommended but still optional to access public models or datasets.\n",
            "  warnings.warn(\n"
          ]
        },
        {
          "output_type": "display_data",
          "data": {
            "text/plain": [
              "README.md: 0.00B [00:00, ?B/s]"
            ],
            "application/vnd.jupyter.widget-view+json": {
              "version_major": 2,
              "version_minor": 0,
              "model_id": "6241f991e0264f7b8fb218bc5fc34aa1"
            }
          },
          "metadata": {}
        },
        {
          "output_type": "display_data",
          "data": {
            "text/plain": [
              "train-00000-of-00001.parquet:   0%|          | 0.00/341M [00:00<?, ?B/s]"
            ],
            "application/vnd.jupyter.widget-view+json": {
              "version_major": 2,
              "version_minor": 0,
              "model_id": "a3c3f093325a48bcaf0d1b7ba7fc6b16"
            }
          },
          "metadata": {}
        },
        {
          "output_type": "display_data",
          "data": {
            "text/plain": [
              "validation-00000-of-00001.parquet:   0%|          | 0.00/42.4M [00:00<?, ?B/s]"
            ],
            "application/vnd.jupyter.widget-view+json": {
              "version_major": 2,
              "version_minor": 0,
              "model_id": "8b79977c064c4fd7b9faec034b48b2a8"
            }
          },
          "metadata": {}
        },
        {
          "output_type": "display_data",
          "data": {
            "text/plain": [
              "test-00000-of-00001.parquet:   0%|          | 0.00/41.5M [00:00<?, ?B/s]"
            ],
            "application/vnd.jupyter.widget-view+json": {
              "version_major": 2,
              "version_minor": 0,
              "model_id": "8e43f9111fc44db99a3edc0cbb030913"
            }
          },
          "metadata": {}
        },
        {
          "output_type": "display_data",
          "data": {
            "text/plain": [
              "Generating train split:   0%|          | 0/3200 [00:00<?, ? examples/s]"
            ],
            "application/vnd.jupyter.widget-view+json": {
              "version_major": 2,
              "version_minor": 0,
              "model_id": "706a039bfd8f41d0b8b5fdc5d9f18f12"
            }
          },
          "metadata": {}
        },
        {
          "output_type": "display_data",
          "data": {
            "text/plain": [
              "Generating validation split:   0%|          | 0/400 [00:00<?, ? examples/s]"
            ],
            "application/vnd.jupyter.widget-view+json": {
              "version_major": 2,
              "version_minor": 0,
              "model_id": "bbddbfa704fc4e2397aa49fb52c6edde"
            }
          },
          "metadata": {}
        },
        {
          "output_type": "display_data",
          "data": {
            "text/plain": [
              "Generating test split:   0%|          | 0/400 [00:00<?, ? examples/s]"
            ],
            "application/vnd.jupyter.widget-view+json": {
              "version_major": 2,
              "version_minor": 0,
              "model_id": "bf27b89eeb804b939e36386e8c725b59"
            }
          },
          "metadata": {}
        }
      ],
      "source": [
        "from datasets import load_dataset\n",
        "\n",
        "ds = load_dataset(\"dvgodoy/rvl_cdip_mini\", cache_dir=\"./new_hf_cache\")"
      ]
    },
    {
      "cell_type": "code",
      "source": [
        "def print_label_range(dataset):\n",
        "    labels = [example['label'] for example in dataset]\n",
        "    unique_labels = set(labels)\n",
        "    print(\"Unique labels:\", sorted(unique_labels))\n",
        "    print(\"Min label:\", min(unique_labels))\n",
        "    print(\"Max label:\", max(unique_labels))\n",
        "\n",
        "\n",
        "print(\"Train:\")\n",
        "print_label_range(ds['train'])\n",
        "print(\"Validation:\")\n",
        "print_label_range(ds['validation'])\n",
        "print(\"Test:\")\n",
        "print_label_range(ds['test'])"
      ],
      "metadata": {
        "colab": {
          "base_uri": "https://localhost:8080/"
        },
        "id": "tVxlkmOVt1go",
        "outputId": "4b3b3654-ff68-4ee4-8ab5-0dcac8afd925"
      },
      "execution_count": 9,
      "outputs": [
        {
          "output_type": "stream",
          "name": "stdout",
          "text": [
            "Train:\n",
            "Unique labels: [0, 1, 2, 3, 4, 5, 6, 7, 8, 9, 10, 11, 12, 13, 14, 15]\n",
            "Min label: 0\n",
            "Max label: 15\n",
            "Validation:\n",
            "Unique labels: [0, 1, 2, 3, 4, 5, 6, 7, 8, 9, 10, 11, 12, 13, 14, 15]\n",
            "Min label: 0\n",
            "Max label: 15\n",
            "Test:\n",
            "Unique labels: [0, 1, 2, 3, 4, 5, 6, 7, 8, 9, 10, 11, 12, 13, 14, 15]\n",
            "Min label: 0\n",
            "Max label: 15\n"
          ]
        }
      ]
    },
    {
      "cell_type": "code",
      "source": [
        "def keep_first_three_classes(example):\n",
        "    return example[\"label\"] in [0, 1, 2]\n",
        "\n",
        "\n",
        "train_filtered = ds[\"train\"].filter(keep_first_three_classes)\n",
        "val_filtered = ds[\"validation\"].filter(keep_first_three_classes)\n",
        "test_filtered = ds[\"test\"].filter(keep_first_three_classes)"
      ],
      "metadata": {
        "colab": {
          "base_uri": "https://localhost:8080/",
          "height": 113,
          "referenced_widgets": [
            "a81ed1b5503449c2b2897f4432621ea4",
            "2d415dff94cf4d21b4e9d19f4369472b",
            "c248b2554b944f9b84d62371ebfbe5b1",
            "3b7bdae143c841c1a9f40d5f1007ba6d",
            "7243c8ef189d4f49aeb8533b88648803",
            "38a111fd8cb9428d8904bf44f97eb5b2",
            "a16854e55c684ce5985cb8e5da6cb0d6",
            "f2086d3760744a81a96dd541b6dc81bf",
            "c9e27a43c31e4846ad785f50e5e85986",
            "d6778acfd48344608ac187a7ee4d9de0",
            "1fe64c9359ad47dfb0bb256d0c48bead",
            "5ebedaa2bfc34465828225b3c71fb9ed",
            "b99d048c607c4a4dade535c3f0518e8b",
            "62814673774e4d9e98acbfcd9ec8c8ca",
            "e68c10e17d9846d5b16e8e6b0d5ade78",
            "9b6e456ad9b1452cab2f5d1fb07b3a03",
            "b4abf770624a4363a92008afcca6ed15",
            "a7d2b714576f42ea91b431d8decf1734",
            "a5975ced8d274309a83f0fd9ef151f5c",
            "08365f68177b40339833d55a40902608",
            "5185d55a36a64475a6db52d97bb48e43",
            "4e5f575e937d492f94f8e9afa03087e2",
            "1e6deeb837a649669a2bf23f46a3bb34",
            "0fbb2942343d48cca29ab5478fe17923",
            "5f8e56c129b048f4830bcb431596803a",
            "3262b333b62640d1b3434141b259c699",
            "9273830002b84c9c8bab8854411f9094",
            "a7a2d353406c45b89750f8a6512b4008",
            "7c2b3a1cdd91479a97a185edccbba829",
            "c3273ef4f4894eada6847203d574d6dc",
            "83cb84e123104777aaef4de3352fd643",
            "c15cde61bd9a478c8e78b0a3be7eca4a",
            "9d25772fc362452aacee462e464e6b8a"
          ]
        },
        "id": "sZ8lSQDthk4L",
        "outputId": "957bde1e-0a98-4ff7-d200-3114660dc5d7"
      },
      "execution_count": 10,
      "outputs": [
        {
          "output_type": "display_data",
          "data": {
            "text/plain": [
              "Filter:   0%|          | 0/3200 [00:00<?, ? examples/s]"
            ],
            "application/vnd.jupyter.widget-view+json": {
              "version_major": 2,
              "version_minor": 0,
              "model_id": "a81ed1b5503449c2b2897f4432621ea4"
            }
          },
          "metadata": {}
        },
        {
          "output_type": "display_data",
          "data": {
            "text/plain": [
              "Filter:   0%|          | 0/400 [00:00<?, ? examples/s]"
            ],
            "application/vnd.jupyter.widget-view+json": {
              "version_major": 2,
              "version_minor": 0,
              "model_id": "5ebedaa2bfc34465828225b3c71fb9ed"
            }
          },
          "metadata": {}
        },
        {
          "output_type": "display_data",
          "data": {
            "text/plain": [
              "Filter:   0%|          | 0/400 [00:00<?, ? examples/s]"
            ],
            "application/vnd.jupyter.widget-view+json": {
              "version_major": 2,
              "version_minor": 0,
              "model_id": "1e6deeb837a649669a2bf23f46a3bb34"
            }
          },
          "metadata": {}
        }
      ]
    },
    {
      "cell_type": "code",
      "source": [
        "print(len(test_filtered))"
      ],
      "metadata": {
        "colab": {
          "base_uri": "https://localhost:8080/"
        },
        "id": "NBoGK3tgmV0_",
        "outputId": "9a4c71cb-dcdd-453a-83e9-a61c04371128"
      },
      "execution_count": 11,
      "outputs": [
        {
          "output_type": "stream",
          "name": "stdout",
          "text": [
            "65\n"
          ]
        }
      ]
    },
    {
      "cell_type": "code",
      "source": [
        "import torch\n",
        "from transformers import LayoutLMTokenizerFast\n",
        "\n",
        "tokenizer = LayoutLMTokenizerFast.from_pretrained(\"microsoft/layoutlm-base-uncased\")\n",
        "\n",
        "def encode_example(example, max_seq_length=512, pad_token_box=[0, 0, 0, 0]):\n",
        "    words = example['ocr_words']\n",
        "    boxes = example['word_boxes']\n",
        "    label = example['label']\n",
        "\n",
        "    encoding = tokenizer(\n",
        "        words,\n",
        "        is_split_into_words=True,\n",
        "        padding='max_length',\n",
        "        truncation=True,\n",
        "        max_length=max_seq_length,\n",
        "        return_tensors='pt'\n",
        "    )\n",
        "\n",
        "\n",
        "    word_ids = encoding.word_ids(batch_index=0)\n",
        "    bbox = []\n",
        "    for word_idx in word_ids:\n",
        "        if word_idx is None:\n",
        "            bbox.append(pad_token_box)\n",
        "        else:\n",
        "            bbox.append(boxes[word_idx])\n",
        "\n",
        "    return {\n",
        "        'input_ids': encoding['input_ids'].squeeze(0),\n",
        "        'attention_mask': encoding['attention_mask'].squeeze(0),\n",
        "        'token_type_ids': encoding['token_type_ids'].squeeze(0),\n",
        "        'bbox': torch.tensor(bbox, dtype=torch.long),\n",
        "        'label': label\n",
        "    }\n"
      ],
      "metadata": {
        "colab": {
          "base_uri": "https://localhost:8080/",
          "height": 177,
          "referenced_widgets": [
            "55905f0989db462eae03d25736f1628c",
            "68b144d6f67a46dd9dd117ad7972fdf5",
            "29f40410c5994f7192544585177f1f7c",
            "ef9dc7af5b5b49d49f17b0a280b182e8",
            "b54ef2681c5146f9b3ed0213c608f628",
            "03c9afc50c8c4476ab9cf955c4e1be3a",
            "05c5295e1bbc46e59d739f60e66ce873",
            "f4cf29bd88a1428fac6a7fd7d59a907b",
            "4d400216c79c482fb8c6d23ba1603557",
            "b358d3c03ba04ecbbd6112f7df79c44c",
            "5f51389442204c87ad80b7391157c25c",
            "d9840fca4a734977be1c64adaea11294",
            "add271fea6a64ccea3837e8bb6816372",
            "ff3b89ab6aa0437483b23e01940a1f39",
            "effbd3791df4401c962f51067e35f764",
            "4767b6cd53d34465b34b92b80e68bf7d",
            "27119c1e5e6742149bd5d9fe3b957096",
            "4b893c7fa4c84cf7971a2c3c6c069b38",
            "30dbe13d1a594b44be8108ba1c7ed89c",
            "04f98e5b0dd94e8c9d9f6f228fde7bd9",
            "2b125f034c7541ac8c00f1e6ec27b325",
            "7c19f7797af94770ae8739a641e8c7de",
            "7501025114124944a124f39315e6545c",
            "b757ad5a5fda4a019e2b53a96a48ddab",
            "03753ec776744c7c91a2274de76ea031",
            "2fac8066e2b94345b6b4be893756ba6c",
            "2cbff92fff384c48a3fda827d7e85e7e",
            "21c6f103f2e7481ea31dab68c7ccea30",
            "9061ebe9e3b445bf9ff54965a742c676",
            "e2a3896fed71442d95ad463bdaddafc2",
            "e9b4c3ad50454831992332c9da24bf8f",
            "f9dec8a85ae74eb78647ae7a236020f5",
            "f75df5f76a9641de8d25fc41e481687b",
            "f2719efdbd0b404abc9c4fa4119d570d",
            "afae92cd9b2f4389b582480bdc30d3e3",
            "0ff09a1e955a4881ac087fbb27d43df9",
            "d1b4129999af440aa9190e1d066dc564",
            "93c296ea531048fba07460857c8dcb12",
            "2959ff70999e4b1aae4e7d1ce8237a51",
            "8bef1bca43c44a63bd99945b49662283",
            "d29ba0be110d43a6b5c8f2320f2a4960",
            "aa1facb38cf642dcbe8c7d203791c484",
            "ac5080f800fa4e819189fb6ade50e6c5",
            "255a4289be7f4eff9a6211784de100b0",
            "4fda20b9d23a46a6b35ee126055f86f2",
            "2d1f77cf7bbe4114803039ffe06b4b8a",
            "21757ebff5654e11927621306fd0459e",
            "5debec23a50948fdb1cf1ecc04f842cf",
            "73cbd717e0db4c7d9f125280254499a4",
            "27e1b65989304d7ea25a61cff4624f64",
            "27b2b0a547a4483f9b4285ad1da9af7a",
            "390d6433f89c4949b52db24e64ae995c",
            "3c3151ad31ba4e97b882095fa10b4e13",
            "325ce50b41e245c2842773c11b7c32a9",
            "f18bed42deaa49f69e1973b101e30439"
          ]
        },
        "id": "9v5FG3VejWdR",
        "outputId": "f7023e6b-0de8-4dfe-9354-8f56ae4d3069"
      },
      "execution_count": 4,
      "outputs": [
        {
          "output_type": "display_data",
          "data": {
            "text/plain": [
              "tokenizer_config.json:   0%|          | 0.00/170 [00:00<?, ?B/s]"
            ],
            "application/vnd.jupyter.widget-view+json": {
              "version_major": 2,
              "version_minor": 0,
              "model_id": "55905f0989db462eae03d25736f1628c"
            }
          },
          "metadata": {}
        },
        {
          "output_type": "display_data",
          "data": {
            "text/plain": [
              "vocab.txt: 0.00B [00:00, ?B/s]"
            ],
            "application/vnd.jupyter.widget-view+json": {
              "version_major": 2,
              "version_minor": 0,
              "model_id": "d9840fca4a734977be1c64adaea11294"
            }
          },
          "metadata": {}
        },
        {
          "output_type": "display_data",
          "data": {
            "text/plain": [
              "tokenizer.json: 0.00B [00:00, ?B/s]"
            ],
            "application/vnd.jupyter.widget-view+json": {
              "version_major": 2,
              "version_minor": 0,
              "model_id": "7501025114124944a124f39315e6545c"
            }
          },
          "metadata": {}
        },
        {
          "output_type": "display_data",
          "data": {
            "text/plain": [
              "special_tokens_map.json:   0%|          | 0.00/112 [00:00<?, ?B/s]"
            ],
            "application/vnd.jupyter.widget-view+json": {
              "version_major": 2,
              "version_minor": 0,
              "model_id": "f2719efdbd0b404abc9c4fa4119d570d"
            }
          },
          "metadata": {}
        },
        {
          "output_type": "display_data",
          "data": {
            "text/plain": [
              "config.json:   0%|          | 0.00/606 [00:00<?, ?B/s]"
            ],
            "application/vnd.jupyter.widget-view+json": {
              "version_major": 2,
              "version_minor": 0,
              "model_id": "4fda20b9d23a46a6b35ee126055f86f2"
            }
          },
          "metadata": {}
        }
      ]
    },
    {
      "cell_type": "code",
      "source": [
        "encoded_train = train_filtered.map(encode_example)\n",
        "encoded_val = val_filtered.map(encode_example)\n",
        "encoded_test = test_filtered.map(encode_example)\n"
      ],
      "metadata": {
        "colab": {
          "base_uri": "https://localhost:8080/",
          "height": 113,
          "referenced_widgets": [
            "2a1bbd2dfd274e7ca36bfa7d208fa1c3",
            "9c3c028f979a4852ad2ca5ed84562fde",
            "4db6164524a846c09c093a8ecb9cddb5",
            "0f9e3d899df84ff9986a9272f8544bff",
            "273884aa257e4faab82596d7a50c4a11",
            "efaaa67c7f024d3b9412aa29be024f25",
            "eb0e60d412e14100be57dffe918904fc",
            "c79ec65dd09f4a5c800854e23b8bf5e9",
            "c0fd25524b534f0181d301f4ecc886b4",
            "fa3d0705d3c1475886acf843612af4cc",
            "767cd5b9988a45e199583d136204ce3d",
            "154456abaa1e4f9d9cad77d050a03b99",
            "8cf0a26fc940444fa9362716a0a6b640",
            "6428ecaaa0614628bcdc283ae01be90f",
            "162c08d890414d1cb5f821879715b680",
            "192e55e8bc754efaa0ae21e834ce7b5d",
            "a50dd342fd8c4608b028a092843ee929",
            "0b1ea81dc7de48bdbf0336527454eb2b",
            "3fb1084c07bb4a2c81553fe133165f11",
            "2765f5272a7f4b4d80692eef09b94730",
            "6d127114c826403b88e75528a7c60aac",
            "ec77449607bc4fc0810eace21fcf46f8",
            "9eaafb5b8d5b4eb1a0a24cd7eb1f4e92",
            "29236658a7b24ec29b60b2a5795cb347",
            "fb64df68d39d4da9bcee0538eec4ea93",
            "09f8bf374b57440c8e98e659cef1447b",
            "957b24837a09426093373dbc5a27a28b",
            "8089ea1237a9407ca7f8be567c473c19",
            "6e436fd3154d4e3ab842c69f918fd111",
            "cf19bc546f1f4a108e6944960fba8e87",
            "c201179d73b9432c8553a515fd474853",
            "3b2cde21f99841b886fd560714acb0b4",
            "c9cf0db245144eb395fd00bed0695ae7"
          ]
        },
        "id": "o5SMpgy3hy64",
        "outputId": "341f8be2-79af-4494-f104-dffecbe4d5e9"
      },
      "execution_count": 5,
      "outputs": [
        {
          "output_type": "display_data",
          "data": {
            "text/plain": [
              "Map:   0%|          | 0/585 [00:00<?, ? examples/s]"
            ],
            "application/vnd.jupyter.widget-view+json": {
              "version_major": 2,
              "version_minor": 0,
              "model_id": "2a1bbd2dfd274e7ca36bfa7d208fa1c3"
            }
          },
          "metadata": {}
        },
        {
          "output_type": "display_data",
          "data": {
            "text/plain": [
              "Map:   0%|          | 0/68 [00:00<?, ? examples/s]"
            ],
            "application/vnd.jupyter.widget-view+json": {
              "version_major": 2,
              "version_minor": 0,
              "model_id": "154456abaa1e4f9d9cad77d050a03b99"
            }
          },
          "metadata": {}
        },
        {
          "output_type": "display_data",
          "data": {
            "text/plain": [
              "Map:   0%|          | 0/65 [00:00<?, ? examples/s]"
            ],
            "application/vnd.jupyter.widget-view+json": {
              "version_major": 2,
              "version_minor": 0,
              "model_id": "9eaafb5b8d5b4eb1a0a24cd7eb1f4e92"
            }
          },
          "metadata": {}
        }
      ]
    },
    {
      "cell_type": "code",
      "source": [
        "columns = ['input_ids', 'attention_mask', 'token_type_ids', 'bbox', 'label']\n",
        "encoded_train.set_format(type='torch', columns=columns)\n",
        "encoded_val.set_format(type='torch', columns=columns)\n",
        "encoded_test.set_format(type='torch', columns=columns)"
      ],
      "metadata": {
        "id": "R48oL9dKh4M6"
      },
      "execution_count": 6,
      "outputs": []
    },
    {
      "cell_type": "code",
      "source": [
        "train_dataset = encoded_train\n",
        "val_dataset = encoded_val\n",
        "test_dataset = encoded_test"
      ],
      "metadata": {
        "id": "l_e0ssoqdpsP"
      },
      "execution_count": 7,
      "outputs": []
    },
    {
      "cell_type": "code",
      "source": [
        "def check_labels_greater_than_3(dataset):\n",
        "    labels = [example['label'] for example in dataset]\n",
        "    greater_than_3 = [label for label in labels if label > 2]\n",
        "    if greater_than_3:\n",
        "        print(\"Labels greater than 3 found:\", set(greater_than_3))\n",
        "    else:\n",
        "        print(\"All labels are 3 or less.\")\n",
        "\n",
        "# Example usage:\n",
        "check_labels_greater_than_3(train_dataset)\n",
        "check_labels_greater_than_3(val_dataset)\n",
        "check_labels_greater_than_3(test_dataset)"
      ],
      "metadata": {
        "colab": {
          "base_uri": "https://localhost:8080/"
        },
        "id": "1-0kM094rANJ",
        "outputId": "40a44b46-cab3-4a5e-85ce-a4a516b69dd4"
      },
      "execution_count": 8,
      "outputs": [
        {
          "output_type": "stream",
          "name": "stdout",
          "text": [
            "All labels are 3 or less.\n",
            "All labels are 3 or less.\n",
            "All labels are 3 or less.\n"
          ]
        }
      ]
    },
    {
      "cell_type": "code",
      "source": [
        "from transformers import LayoutLMForSequenceClassification\n",
        "\n",
        "model = LayoutLMForSequenceClassification.from_pretrained(\n",
        "    \"microsoft/layoutlm-base-uncased\",\n",
        "    num_labels=3\n",
        ")"
      ],
      "metadata": {
        "colab": {
          "base_uri": "https://localhost:8080/"
        },
        "id": "PvmhqR3Oh7v8",
        "outputId": "0bffaeb0-9ed7-49a7-ea91-ab98bc33de3a"
      },
      "execution_count": 11,
      "outputs": [
        {
          "output_type": "stream",
          "name": "stderr",
          "text": [
            "Some weights of LayoutLMForSequenceClassification were not initialized from the model checkpoint at microsoft/layoutlm-base-uncased and are newly initialized: ['classifier.bias', 'classifier.weight']\n",
            "You should probably TRAIN this model on a down-stream task to be able to use it for predictions and inference.\n"
          ]
        }
      ]
    },
    {
      "cell_type": "code",
      "source": [
        "import torch\n",
        "from torch.utils.data import DataLoader\n",
        "from torch.optim import AdamW\n",
        "\n",
        "\n",
        "def train_model(model, train_dataset, val_dataset, test_dataset, device, num_train_epochs=10, batch_size=4, learning_rate=4e-5):\n",
        "\n",
        "    train_dataloader = DataLoader(train_dataset, batch_size=batch_size, shuffle=True)\n",
        "    val_dataloader = DataLoader(val_dataset, batch_size=batch_size)\n",
        "    test_dataloader = DataLoader(test_dataset, batch_size=batch_size)\n",
        "\n",
        "    optimizer = AdamW(model.parameters(), lr=learning_rate)\n",
        "    model.to(device)\n",
        "\n",
        "    for epoch in range(num_train_epochs):\n",
        "        print(f\"\\nEpoch: {epoch + 1}/{num_train_epochs}\")\n",
        "        model.train()\n",
        "        running_loss = 0.0\n",
        "        correct = 0\n",
        "        total = 0\n",
        "\n",
        "        for batch in train_dataloader:\n",
        "            input_ids = batch[\"input_ids\"].to(device)\n",
        "            bbox = batch[\"bbox\"].to(device)\n",
        "            attention_mask = batch[\"attention_mask\"].to(device)\n",
        "            token_type_ids = batch[\"token_type_ids\"].to(device)\n",
        "            labels = batch[\"label\"].to(device)\n",
        "\n",
        "            optimizer.zero_grad()\n",
        "            outputs = model(\n",
        "                input_ids=input_ids,\n",
        "                bbox=bbox,\n",
        "                attention_mask=attention_mask,\n",
        "                token_type_ids=token_type_ids,\n",
        "                labels=labels\n",
        "            )\n",
        "            loss = outputs.loss\n",
        "            logits = outputs.logits\n",
        "\n",
        "            loss.backward()\n",
        "            optimizer.step()\n",
        "\n",
        "            running_loss += loss.item() * input_ids.size(0)\n",
        "            preds = torch.argmax(logits, dim=1)\n",
        "            correct += (preds == labels).sum().item()\n",
        "            total += labels.size(0)\n",
        "\n",
        "        train_loss = running_loss / total\n",
        "        train_acc = correct / total\n",
        "        print(f\"Training loss: {train_loss:.4f}, accuracy: {train_acc:.4f}\")\n",
        "\n",
        "        # Validation\n",
        "        model.eval()\n",
        "        val_loss = 0.0\n",
        "        val_correct = 0\n",
        "        val_total = 0\n",
        "        with torch.no_grad():\n",
        "            for batch in val_dataloader:\n",
        "                input_ids = batch[\"input_ids\"].to(device)\n",
        "                bbox = batch[\"bbox\"].to(device)\n",
        "                attention_mask = batch[\"attention_mask\"].to(device)\n",
        "                token_type_ids = batch[\"token_type_ids\"].to(device)\n",
        "                labels = batch[\"label\"].to(device)\n",
        "\n",
        "                outputs = model(\n",
        "                    input_ids=input_ids,\n",
        "                    bbox=bbox,\n",
        "                    attention_mask=attention_mask,\n",
        "                    token_type_ids=token_type_ids,\n",
        "                    labels=labels\n",
        "                )\n",
        "                loss = outputs.loss\n",
        "                logits = outputs.logits\n",
        "\n",
        "                val_loss += loss.item() * input_ids.size(0)\n",
        "                preds = torch.argmax(logits, dim=1)\n",
        "                val_correct += (preds == labels).sum().item()\n",
        "                val_total += labels.size(0)\n",
        "\n",
        "        val_loss /= val_total\n",
        "        val_acc = val_correct / val_total\n",
        "        print(f\"Validation loss: {val_loss:.4f}, accuracy: {val_acc:.4f}\")\n",
        "\n",
        "    # Testing\n",
        "    model.eval()\n",
        "    test_correct = 0\n",
        "    test_total = 0\n",
        "    with torch.no_grad():\n",
        "        for batch in test_dataloader:\n",
        "            input_ids = batch[\"input_ids\"].to(device)\n",
        "            bbox = batch[\"bbox\"].to(device)\n",
        "            attention_mask = batch[\"attention_mask\"].to(device)\n",
        "            token_type_ids = batch[\"token_type_ids\"].to(device)\n",
        "            labels = batch[\"label\"].to(device)\n",
        "\n",
        "            outputs = model(\n",
        "                input_ids=input_ids,\n",
        "                bbox=bbox,\n",
        "                attention_mask=attention_mask,\n",
        "                token_type_ids=token_type_ids,\n",
        "                labels=labels\n",
        "            )\n",
        "            logits = outputs.logits\n",
        "\n",
        "            preds = torch.argmax(logits, dim=1)\n",
        "            test_correct += (preds == labels).sum().item()\n",
        "            test_total += labels.size(0)\n",
        "\n",
        "    test_acc = test_correct / test_total\n",
        "    print(f\"\\nTest accuracy: {test_acc:.4f}\")\n",
        "\n",
        "    return model\n",
        "\n",
        "# Example usage:\n",
        "model = LayoutLMForSequenceClassification.from_pretrained('microsoft/layoutlm-base-uncased', num_labels=16)\n",
        "trained_model = train_model(model, train_dataset, val_dataset, test_dataset, device='cuda' if torch.cuda.is_available() else 'cpu')\n"
      ],
      "metadata": {
        "colab": {
          "base_uri": "https://localhost:8080/"
        },
        "id": "Qq5-m7boVekH",
        "outputId": "61256f37-25fb-4c6d-9a27-87bc0d8c67f8"
      },
      "execution_count": null,
      "outputs": [
        {
          "output_type": "stream",
          "name": "stderr",
          "text": [
            "Some weights of LayoutLMForSequenceClassification were not initialized from the model checkpoint at microsoft/layoutlm-base-uncased and are newly initialized: ['classifier.bias', 'classifier.weight']\n",
            "You should probably TRAIN this model on a down-stream task to be able to use it for predictions and inference.\n"
          ]
        },
        {
          "output_type": "stream",
          "name": "stdout",
          "text": [
            "\n",
            "Epoch: 1/10\n"
          ]
        }
      ]
    }
  ]
}
